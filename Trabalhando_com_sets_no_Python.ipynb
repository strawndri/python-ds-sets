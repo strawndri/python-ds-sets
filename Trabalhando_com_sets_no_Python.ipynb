{
  "nbformat": 4,
  "nbformat_minor": 0,
  "metadata": {
    "colab": {
      "provenance": [],
      "collapsed_sections": [
        "ehKwJvXMbEuW"
      ],
      "include_colab_link": true
    },
    "kernelspec": {
      "name": "python3",
      "display_name": "Python 3"
    },
    "language_info": {
      "name": "python"
    }
  },
  "cells": [
    {
      "cell_type": "markdown",
      "metadata": {
        "id": "view-in-github",
        "colab_type": "text"
      },
      "source": [
        "<a href=\"https://colab.research.google.com/github/strawndri/python-ds-sets/blob/main/Trabalhando_com_sets_no_Python.ipynb\" target=\"_parent\"><img src=\"https://colab.research.google.com/assets/colab-badge.svg\" alt=\"Open In Colab\"/></a>"
      ]
    },
    {
      "cell_type": "markdown",
      "source": [
        "# **Trabalhando com Sets no Python**"
      ],
      "metadata": {
        "id": "a_0iJT3mqcck"
      }
    },
    {
      "cell_type": "markdown",
      "source": [
        "Em Python, ***sets*** representam uma coleção de dados não ordenados que não podem se repetir. São parcialmente mutáveis, permitindo a adição e a remoção de elementos.\n",
        "\n",
        "[Documentação do Python sobre Sets](https://docs.python.org/3/tutorial/datastructures.html#sets)"
      ],
      "metadata": {
        "id": "Vn6798on0vqF"
      }
    },
    {
      "cell_type": "markdown",
      "source": [
        "## **Criação dos sets**"
      ],
      "metadata": {
        "id": "hwdXSll0wgSW"
      }
    },
    {
      "cell_type": "markdown",
      "source": [
        "### **Utilizando as chaves `{ }`:**\n",
        "\n",
        "\n"
      ],
      "metadata": {
        "id": "yfaf8Gn6jALR"
      }
    },
    {
      "cell_type": "markdown",
      "source": [
        "Sets podem ser criados utilizando chaves, semelhantes à criação de [dicionários](https://docs.python.org/3/tutorial/datastructures.html#dictionaries), mas sem pares chave-valor. Os elementos são simplesmente listados entre as chaves."
      ],
      "metadata": {
        "id": "Z2z1kGQe2SIS"
      }
    },
    {
      "cell_type": "code",
      "source": [
        "carros = {'Jetta Variant', 'Passat', 'Crossfox', 'Dodge Jorney'}\n",
        "\n",
        "print(carros)"
      ],
      "metadata": {
        "id": "FK3qZ08ckgXK",
        "colab": {
          "base_uri": "https://localhost:8080/"
        },
        "outputId": "1d32a60c-39f4-4073-dd80-f4425a45ff79"
      },
      "execution_count": 1,
      "outputs": [
        {
          "output_type": "stream",
          "name": "stdout",
          "text": [
            "{'Crossfox', 'Dodge Jorney', 'Jetta Variant', 'Passat'}\n"
          ]
        }
      ]
    },
    {
      "cell_type": "markdown",
      "source": [
        "Sets não precisam, necessariamente, armazenar valores com o mesmo tipo de dado. No exemplo abaixo, utilizou-se de quatro tipos diferentes: `int`, `str`, `float` e `bool`."
      ],
      "metadata": {
        "id": "-hE5GUcA3F7q"
      }
    },
    {
      "cell_type": "code",
      "source": [
        "# Sets com elementos diferentes\n",
        "\n",
        "elementos_diferentes = {2017, \"Onix\", 37123.04, True}\n",
        "print(elementos_diferentes)"
      ],
      "metadata": {
        "colab": {
          "base_uri": "https://localhost:8080/"
        },
        "id": "6A1qeFDQEKuM",
        "outputId": "c255ea13-3ea4-4d61-b2be-093adc3074e9"
      },
      "execution_count": 2,
      "outputs": [
        {
          "output_type": "stream",
          "name": "stdout",
          "text": [
            "{'Onix', 2017, 37123.04, True}\n"
          ]
        }
      ]
    },
    {
      "cell_type": "markdown",
      "source": [
        "Pelo fato de não serem estruturas ordenadas, não é possível acessar elementos a partir de um índice, tal qual é feito em listas."
      ],
      "metadata": {
        "id": "sMgZNlJu2kGo"
      }
    },
    {
      "cell_type": "code",
      "source": [
        "carros[0]"
      ],
      "metadata": {
        "colab": {
          "base_uri": "https://localhost:8080/",
          "height": 175
        },
        "id": "LSffwZiinhIP",
        "outputId": "c3169f18-2ec1-4fde-ef3c-b8489d33165a"
      },
      "execution_count": 3,
      "outputs": [
        {
          "output_type": "error",
          "ename": "TypeError",
          "evalue": "ignored",
          "traceback": [
            "\u001b[0;31m---------------------------------------------------------------------------\u001b[0m",
            "\u001b[0;31mTypeError\u001b[0m                                 Traceback (most recent call last)",
            "\u001b[0;32m<ipython-input-3-196d22ee0193>\u001b[0m in \u001b[0;36m<cell line: 1>\u001b[0;34m()\u001b[0m\n\u001b[0;32m----> 1\u001b[0;31m \u001b[0mcarros\u001b[0m\u001b[0;34m[\u001b[0m\u001b[0;36m0\u001b[0m\u001b[0;34m]\u001b[0m\u001b[0;34m\u001b[0m\u001b[0;34m\u001b[0m\u001b[0m\n\u001b[0m",
            "\u001b[0;31mTypeError\u001b[0m: 'set' object is not subscriptable"
          ]
        }
      ]
    },
    {
      "cell_type": "markdown",
      "source": [
        "Assim como outros tipos de coleções, os sets são iteráveis. No código abaixo, usamos um `loop for` para apresentar todos os elementos contidos no set `carros`:"
      ],
      "metadata": {
        "id": "LsRsfDC73VKV"
      }
    },
    {
      "cell_type": "code",
      "source": [
        "for i in carros:\n",
        "  print(i)"
      ],
      "metadata": {
        "id": "dcccTfDPa_bH",
        "colab": {
          "base_uri": "https://localhost:8080/"
        },
        "outputId": "6756e9c8-0b72-405c-aaee-22060f2c6014"
      },
      "execution_count": 4,
      "outputs": [
        {
          "output_type": "stream",
          "name": "stdout",
          "text": [
            "Crossfox\n",
            "Dodge Jorney\n",
            "Jetta Variant\n",
            "Passat\n"
          ]
        }
      ]
    },
    {
      "cell_type": "markdown",
      "source": [
        "### **Utilizando listas e a função `set()`**"
      ],
      "metadata": {
        "id": "A7YsVhE6jHxL"
      }
    },
    {
      "cell_type": "markdown",
      "source": [
        "Sets também podem ser criados a partir de listas utilizando a função `set()`. Isso remove elementos duplicados da lista.\n",
        "\n",
        "[Documentação do Python sobre a função `set()`](https://docs.python.org/3/library/stdtypes.html#set)"
      ],
      "metadata": {
        "id": "6eb1uGsf3gKq"
      }
    },
    {
      "cell_type": "code",
      "source": [
        "lista_escolas = ['Data Science', 'Programação', 'Front-end',\n",
        "                 'Mobile', 'DevOps', 'UX & Design', 'Inovação e Gestão']"
      ],
      "metadata": {
        "id": "SPF6Lemvr155"
      },
      "execution_count": 5,
      "outputs": []
    },
    {
      "cell_type": "code",
      "source": [
        "escolas_set = set(lista_escolas)\n",
        "\n",
        "print(escolas_set)"
      ],
      "metadata": {
        "colab": {
          "base_uri": "https://localhost:8080/"
        },
        "id": "z4XSX7EUQZTk",
        "outputId": "9f772a6e-91d3-4722-f254-2d912a0d088a"
      },
      "execution_count": 6,
      "outputs": [
        {
          "output_type": "stream",
          "name": "stdout",
          "text": [
            "{'Programação', 'UX & Design', 'Inovação e Gestão', 'Data Science', 'DevOps', 'Front-end', 'Mobile'}\n"
          ]
        }
      ]
    },
    {
      "cell_type": "markdown",
      "source": [
        "### **Trabalhando com elementos repetidos:**"
      ],
      "metadata": {
        "id": "L65NhBb1jawr"
      }
    },
    {
      "cell_type": "markdown",
      "source": [
        "Sets não aceitam elementos duplicados; ao tentar adicionar um elemento já existente, o conjunto permanece inalterado.\n",
        "\n",
        "* No exemplo a seguir, foi criada uma lista chamada `lista_carros`. Ela possui dados repetidos, como *Jetta Variant*, *Passat* e *Crossfox*;\n",
        "* Em `nova_lista`, armazenamos o set referente à `lista_carros`;\n",
        "* Enquanto `lista_carros` possui 7 elementos, `nova_lista` contém apenas 4 (os não repetidos)."
      ],
      "metadata": {
        "id": "9-GtwOVC3zbl"
      }
    },
    {
      "cell_type": "code",
      "source": [
        "lista_carros = ['Jetta Variant', 'Passat', 'Crossfox', 'Passat', 'Crossfox',\n",
        "                'Jetta Variant', 'Dodge Journey']\n",
        "nova_lista = set(lista_carros)"
      ],
      "metadata": {
        "id": "VzHw4PPKr1-O"
      },
      "execution_count": 7,
      "outputs": []
    },
    {
      "cell_type": "code",
      "source": [
        "# Utilizando a função len() para verificar a quantidade de elementos\n",
        "print(len(lista_carros))"
      ],
      "metadata": {
        "colab": {
          "base_uri": "https://localhost:8080/"
        },
        "id": "LZAOxogMd8qW",
        "outputId": "dbbd6970-45c1-4dae-d862-e62aa599db8e"
      },
      "execution_count": 8,
      "outputs": [
        {
          "output_type": "stream",
          "name": "stdout",
          "text": [
            "7\n"
          ]
        }
      ]
    },
    {
      "cell_type": "code",
      "source": [
        "print(nova_lista)"
      ],
      "metadata": {
        "colab": {
          "base_uri": "https://localhost:8080/"
        },
        "id": "rGMVqeWhd9YO",
        "outputId": "51c3445a-002c-4533-c3fa-169746437eee"
      },
      "execution_count": 9,
      "outputs": [
        {
          "output_type": "stream",
          "name": "stdout",
          "text": [
            "{'Dodge Journey', 'Crossfox', 'Jetta Variant', 'Passat'}\n"
          ]
        }
      ]
    },
    {
      "cell_type": "code",
      "source": [
        "len(nova_lista)"
      ],
      "metadata": {
        "colab": {
          "base_uri": "https://localhost:8080/"
        },
        "id": "rXUxHPawWq8x",
        "outputId": "2a9ba3b0-c06c-49d7-cceb-235efbd2cec1"
      },
      "execution_count": 10,
      "outputs": [
        {
          "output_type": "execute_result",
          "data": {
            "text/plain": [
              "4"
            ]
          },
          "metadata": {},
          "execution_count": 10
        }
      ]
    },
    {
      "cell_type": "markdown",
      "source": [
        "## **Operações com Sets**\n"
      ],
      "metadata": {
        "id": "U8Ur2s1KQlgv"
      }
    },
    {
      "cell_type": "markdown",
      "source": [
        "Para esse exercício, vamos precisar criar conjuntos com os **acessórios** de alguns modelos de carros, são eles: **Passat**, **Crossfox** e **Jetta Variant**."
      ],
      "metadata": {
        "id": "Jcko59YgXiT4"
      }
    },
    {
      "cell_type": "code",
      "source": [
        "acessorios_passat = {'Rodas de Liga', 'Travas Elétricas', 'Piloto Automático',\n",
        "                     'Central Multimídia'}\n",
        "print(acessorios_passat)"
      ],
      "metadata": {
        "colab": {
          "base_uri": "https://localhost:8080/"
        },
        "id": "zA95t7-YXoE4",
        "outputId": "c8d880b9-2586-4648-9013-623cbe039519"
      },
      "execution_count": 11,
      "outputs": [
        {
          "output_type": "stream",
          "name": "stdout",
          "text": [
            "{'Piloto Automático', 'Rodas de Liga', 'Travas Elétricas', 'Central Multimídia'}\n"
          ]
        }
      ]
    },
    {
      "cell_type": "code",
      "source": [
        "acessorios_crossfox = {'Piloto Automático', 'Teto Panorâmico', '4 X 4',\n",
        "                       'Central Multimídia'}\n",
        "print(acessorios_crossfox)"
      ],
      "metadata": {
        "colab": {
          "base_uri": "https://localhost:8080/"
        },
        "id": "lfgMiNEyXoE5",
        "outputId": "7b265ce9-a8c8-441f-82b9-7522b1b88fec"
      },
      "execution_count": 12,
      "outputs": [
        {
          "output_type": "stream",
          "name": "stdout",
          "text": [
            "{'Piloto Automático', 'Teto Panorâmico', 'Central Multimídia', '4 X 4'}\n"
          ]
        }
      ]
    },
    {
      "cell_type": "code",
      "source": [
        "acessorios_jetta = {'Controle de Estabilidade', 'Câmbio Automático', 'Travas Elétricas',\n",
        "                    'Rodas de Liga'}\n",
        "print(acessorios_jetta)"
      ],
      "metadata": {
        "colab": {
          "base_uri": "https://localhost:8080/"
        },
        "id": "2dsJa9sAXoE5",
        "outputId": "10e5ac84-141e-4f61-b812-23eef8850320"
      },
      "execution_count": 13,
      "outputs": [
        {
          "output_type": "stream",
          "name": "stdout",
          "text": [
            "{'Câmbio Automático', 'Controle de Estabilidade', 'Rodas de Liga', 'Travas Elétricas'}\n"
          ]
        }
      ]
    },
    {
      "cell_type": "markdown",
      "source": [
        "### **Disjunção**"
      ],
      "metadata": {
        "id": "Pp7URtpTQnXn"
      }
    },
    {
      "cell_type": "markdown",
      "source": [
        "A disjunção entre dois sets retorna um novo conjunto contendo elementos que estão presentes em **um** dos conjuntos, mas **não em ambos**.\n",
        "\n",
        "[Documentação do Python sobre `isdisjoint()`](https://www.w3schools.com/python/ref_set_isdisjoint.asp)"
      ],
      "metadata": {
        "id": "4qUGK45r4cKP"
      }
    },
    {
      "cell_type": "markdown",
      "source": [
        "<img src='https://i.imgur.com/o2wsgPo.png' width = 50%>"
      ],
      "metadata": {
        "id": "IRmgINkLWsjs"
      }
    },
    {
      "cell_type": "code",
      "source": [
        "set.isdisjoint(acessorios_passat, acessorios_crossfox)"
      ],
      "metadata": {
        "colab": {
          "base_uri": "https://localhost:8080/"
        },
        "id": "n3GfcrMHW4nu",
        "outputId": "7e2c6ac9-cd80-46f8-a2d2-ac73a4d6b22e"
      },
      "execution_count": 14,
      "outputs": [
        {
          "output_type": "execute_result",
          "data": {
            "text/plain": [
              "False"
            ]
          },
          "metadata": {},
          "execution_count": 14
        }
      ]
    },
    {
      "cell_type": "markdown",
      "source": [
        "### **Interseção**"
      ],
      "metadata": {
        "id": "0YYUbNDFWpvB"
      }
    },
    {
      "cell_type": "markdown",
      "source": [
        "A interseção entre dois sets produz um novo conjunto contendo apenas elementos que estão presentes em ambos os conjuntos. Ela pode ser construída utilizando o operador `&` ou a função `intersection().`\n",
        "\n",
        "[Documentação do Python sobre a função `intersection()`](https://www.w3schools.com/python/ref_set_intersection.asp)"
      ],
      "metadata": {
        "id": "ZvBRj1IZ5KHI"
      }
    },
    {
      "cell_type": "markdown",
      "source": [
        "<img src='https://i.imgur.com/6W7bxU1.png' width = 50%>"
      ],
      "metadata": {
        "id": "0OPz9M8vW-BZ"
      }
    },
    {
      "cell_type": "code",
      "source": [
        "acessorios_passat & acessorios_crossfox"
      ],
      "metadata": {
        "colab": {
          "base_uri": "https://localhost:8080/"
        },
        "id": "7Xg8Tyb3XIbs",
        "outputId": "3428d9b9-f5fa-48e2-97d2-f23b4b4706ad"
      },
      "execution_count": 15,
      "outputs": [
        {
          "output_type": "execute_result",
          "data": {
            "text/plain": [
              "{'Central Multimídia', 'Piloto Automático'}"
            ]
          },
          "metadata": {},
          "execution_count": 15
        }
      ]
    },
    {
      "cell_type": "code",
      "source": [
        "acessorios_passat & acessorios_jetta"
      ],
      "metadata": {
        "colab": {
          "base_uri": "https://localhost:8080/"
        },
        "id": "xQ6X-XbsYz_T",
        "outputId": "75c7ebdd-37a3-4797-cbf0-63449c8d4255"
      },
      "execution_count": 20,
      "outputs": [
        {
          "output_type": "execute_result",
          "data": {
            "text/plain": [
              "{'Rodas de Liga', 'Travas Elétricas'}"
            ]
          },
          "metadata": {},
          "execution_count": 20
        }
      ]
    },
    {
      "cell_type": "code",
      "source": [
        "set.intersection(acessorios_passat, acessorios_crossfox, acessorios_jetta)"
      ],
      "metadata": {
        "colab": {
          "base_uri": "https://localhost:8080/"
        },
        "id": "OHa9LqNdY2ht",
        "outputId": "c62b33af-e2a2-4415-de9d-12007b85ad81"
      },
      "execution_count": 21,
      "outputs": [
        {
          "output_type": "execute_result",
          "data": {
            "text/plain": [
              "set()"
            ]
          },
          "metadata": {},
          "execution_count": 21
        }
      ]
    },
    {
      "cell_type": "markdown",
      "source": [
        "### **União**"
      ],
      "metadata": {
        "id": "GzUoqpFVZGIu"
      }
    },
    {
      "cell_type": "markdown",
      "source": [
        "A união de dois sets cria um novo conjunto contendo todos os elementos únicos de ambos os conjuntos. Ela pode ser construída a partir do operador `|` ou da função `union()`.\n",
        "\n",
        "[Documentação do Python sobre a função `union()`](https://www.w3schools.com/python/ref_set_union.asp)\n",
        "\n"
      ],
      "metadata": {
        "id": "A1B4YrEt5e_t"
      }
    },
    {
      "cell_type": "markdown",
      "source": [
        "<img src='https://i.imgur.com/C3MrKmK.png' width = 50%>"
      ],
      "metadata": {
        "id": "Me_90Pk7ZG9d"
      }
    },
    {
      "cell_type": "code",
      "source": [
        "acessorios_passat | acessorios_crossfox"
      ],
      "metadata": {
        "colab": {
          "base_uri": "https://localhost:8080/"
        },
        "id": "kYo9i7g5WrX_",
        "outputId": "ce021eeb-9f75-406b-b620-bdfed36f37f1"
      },
      "execution_count": 22,
      "outputs": [
        {
          "output_type": "execute_result",
          "data": {
            "text/plain": [
              "{'4 X 4',\n",
              " 'Central Multimídia',\n",
              " 'Piloto Automático',\n",
              " 'Rodas de Liga',\n",
              " 'Teto Panorâmico',\n",
              " 'Travas Elétricas'}"
            ]
          },
          "metadata": {},
          "execution_count": 22
        }
      ]
    },
    {
      "cell_type": "code",
      "source": [
        "set.union(acessorios_passat, acessorios_crossfox, acessorios_jetta, {'Teto Solar'})"
      ],
      "metadata": {
        "colab": {
          "base_uri": "https://localhost:8080/"
        },
        "id": "h7RZmv19auKU",
        "outputId": "632063da-3aa4-4f80-af2b-07517779fb64"
      },
      "execution_count": 23,
      "outputs": [
        {
          "output_type": "execute_result",
          "data": {
            "text/plain": [
              "{'4 X 4',\n",
              " 'Central Multimídia',\n",
              " 'Controle de Estabilidade',\n",
              " 'Câmbio Automático',\n",
              " 'Piloto Automático',\n",
              " 'Rodas de Liga',\n",
              " 'Teto Panorâmico',\n",
              " 'Teto Solar',\n",
              " 'Travas Elétricas'}"
            ]
          },
          "metadata": {},
          "execution_count": 23
        }
      ]
    },
    {
      "cell_type": "markdown",
      "source": [
        "## **Perfomance**"
      ],
      "metadata": {
        "id": "wMelozu-ijag"
      }
    },
    {
      "cell_type": "markdown",
      "source": [
        "Sets, em Python, podem oferecer uma execução eficiente para **operações adição e remoção de elementos**, especialmente quando comparados a outras estruturas de dados. Além disso, são excelentes estruturas para realizar **iterações**."
      ],
      "metadata": {
        "id": "TFzw27rF52rd"
      }
    },
    {
      "cell_type": "code",
      "source": [
        "carros"
      ],
      "metadata": {
        "colab": {
          "base_uri": "https://localhost:8080/"
        },
        "id": "EhyRdV4CLvVX",
        "outputId": "a110e3db-9d7e-4861-d8a3-7e2a2695708f"
      },
      "execution_count": 24,
      "outputs": [
        {
          "output_type": "execute_result",
          "data": {
            "text/plain": [
              "{'Crossfox', 'Dodge Jorney', 'Jetta Variant', 'Passat'}"
            ]
          },
          "metadata": {},
          "execution_count": 24
        }
      ]
    },
    {
      "cell_type": "code",
      "source": [
        "'Crossfox' in carros"
      ],
      "metadata": {
        "colab": {
          "base_uri": "https://localhost:8080/"
        },
        "id": "PnRZ7Dp0Lwrt",
        "outputId": "e1bc1320-03e5-4ad3-f248-c69b2bee6ff4"
      },
      "execution_count": 25,
      "outputs": [
        {
          "output_type": "execute_result",
          "data": {
            "text/plain": [
              "True"
            ]
          },
          "metadata": {},
          "execution_count": 25
        }
      ]
    },
    {
      "cell_type": "markdown",
      "source": [
        "### **Perfomance com vários elementos**"
      ],
      "metadata": {
        "id": "xLpWitV6L0At"
      }
    },
    {
      "cell_type": "code",
      "source": [
        "elementos_set = set(range(10000))\n",
        "elementos_list = list(range(10000))\n",
        "elementos_tuple = tuple(range(10000))"
      ],
      "metadata": {
        "id": "-OErengzhloO"
      },
      "execution_count": 26,
      "outputs": []
    },
    {
      "cell_type": "code",
      "source": [
        "def verificar_elemento_in(elemento_iteravel):\n",
        "\n",
        "  for i in range(10000):\n",
        "    if i in elemento_iteravel:\n",
        "      pass"
      ],
      "metadata": {
        "id": "r5v0f69hhQpJ"
      },
      "execution_count": 27,
      "outputs": []
    },
    {
      "cell_type": "code",
      "source": [
        "print(\"Tempo de execução set: \")\n",
        "%time verificar_elemento_in(elementos_set)\n",
        "print(\"=\"*30)\n",
        "\n",
        "print(\"Tempo de execução lista: \")\n",
        "%time verificar_elemento_in(elementos_list)\n",
        "print(\"=\"*30)\n",
        "\n",
        "print(\"Tempo de execução tuplas: \")\n",
        "%time verificar_elemento_in(elementos_tuple)\n",
        "print(\"=\"*30)"
      ],
      "metadata": {
        "colab": {
          "base_uri": "https://localhost:8080/"
        },
        "id": "Ny1_EsyZJxea",
        "outputId": "b7169942-68d5-4604-a736-6004bfedca28"
      },
      "execution_count": 28,
      "outputs": [
        {
          "output_type": "stream",
          "name": "stdout",
          "text": [
            "Tempo de execução set: \n",
            "CPU times: user 1.21 ms, sys: 0 ns, total: 1.21 ms\n",
            "Wall time: 2.24 ms\n",
            "==============================\n",
            "Tempo de execução lista: \n",
            "CPU times: user 535 ms, sys: 0 ns, total: 535 ms\n",
            "Wall time: 555 ms\n",
            "==============================\n",
            "Tempo de execução tuplas: \n",
            "CPU times: user 461 ms, sys: 0 ns, total: 461 ms\n",
            "Wall time: 467 ms\n",
            "==============================\n"
          ]
        }
      ]
    }
  ]
}